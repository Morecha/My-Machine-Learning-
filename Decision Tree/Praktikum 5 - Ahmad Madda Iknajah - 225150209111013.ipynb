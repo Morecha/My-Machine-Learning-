{
  "cells": [
    {
      "cell_type": "markdown",
      "metadata": {
        "id": "-qDsm6BnME2X"
      },
      "source": [
        "# Praktikum Pengantar Pembelajaran Mesin\n",
        "\n",
        "\n",
        "---\n",
        "## Bab 5. Klasifikasi Decision Tree\n"
      ]
    },
    {
      "cell_type": "markdown",
      "metadata": {
        "id": "sQAGcnK3MOS7"
      },
      "source": [
        "### 1) Import Data\n",
        "\n",
        "Praktikum kali ini menggunakan dataset [Car Evaluation Dataset](https://archive.ics.uci.edu/ml/datasets/Car+Evaluation) dari UCI Machine Learning Repository. Dataset ini telah digunakan pada praktikum sebelumnya. Detail fitur dapat Anda pelajari pada link yang tersedia. \n",
        "\n",
        "Unduh dataset yang akan digunakan pada praktikum kali ini. Anda dapat menggunakan aplikasi wget untuk mendowload dataset dan menyimpannya dalam Google Colab. Jalankan cell di bawah ini untuk mengunduh dataset"
      ]
    },
    {
      "cell_type": "code",
      "execution_count": 20,
      "metadata": {
        "colab": {
          "base_uri": "https://localhost:8080/"
        },
        "id": "FpjqVlzBMNLd",
        "outputId": "01aa5acf-f206-47b3-bd12-3926c641f63f"
      },
      "outputs": [],
      "source": [
        "# !wget --no-check-certificate 'https://docs.google.com/uc?export=download&id=1RXcXrwkVoOI-hPvfJM1-FlmO_bB7M3YJ' -O car_sample.csv"
      ]
    },
    {
      "cell_type": "markdown",
      "metadata": {
        "id": "SJy4t3lIOgGp"
      },
      "source": [
        "Setelah dataset berhasil diunduh, langkah berikutnya adalah membaca dataset dengan memanfaatkan fungsi **readcsv** dari library pandas. Lakukan pembacaan berkas csv ke dalam dataframe dengan nama **data** menggunakan fungsi **readcsv**. Jangan lupa untuk melakukan import library pandas terlebih dahulu\n"
      ]
    },
    {
      "cell_type": "code",
      "execution_count": 21,
      "metadata": {
        "id": "mdhbxk_2OzbB"
      },
      "outputs": [],
      "source": [
        "import pandas as pd\n",
        "import numpy as np\n",
        "data = pd.read_excel('car_sample.xlsx')"
      ]
    },
    {
      "cell_type": "markdown",
      "metadata": {
        "id": "w6NfrIDTOK38"
      },
      "source": [
        "\n",
        "\n",
        "Cek isi dataset Anda dengan menggunakan perintah **head()**"
      ]
    },
    {
      "cell_type": "code",
      "execution_count": 22,
      "metadata": {
        "colab": {
          "base_uri": "https://localhost:8080/",
          "height": 206
        },
        "id": "Uaiaj796OFH3",
        "outputId": "120eb644-9fb9-4a9a-9d4b-ccb09c7ad50a"
      },
      "outputs": [
        {
          "data": {
            "text/html": [
              "<div>\n",
              "<style scoped>\n",
              "    .dataframe tbody tr th:only-of-type {\n",
              "        vertical-align: middle;\n",
              "    }\n",
              "\n",
              "    .dataframe tbody tr th {\n",
              "        vertical-align: top;\n",
              "    }\n",
              "\n",
              "    .dataframe thead th {\n",
              "        text-align: right;\n",
              "    }\n",
              "</style>\n",
              "<table border=\"1\" class=\"dataframe\">\n",
              "  <thead>\n",
              "    <tr style=\"text-align: right;\">\n",
              "      <th></th>\n",
              "      <th>buying</th>\n",
              "      <th>maint</th>\n",
              "      <th>lug_boot</th>\n",
              "      <th>safety</th>\n",
              "      <th>class</th>\n",
              "    </tr>\n",
              "  </thead>\n",
              "  <tbody>\n",
              "    <tr>\n",
              "      <th>0</th>\n",
              "      <td>vhigh</td>\n",
              "      <td>vhigh</td>\n",
              "      <td>small</td>\n",
              "      <td>low</td>\n",
              "      <td>unacc</td>\n",
              "    </tr>\n",
              "    <tr>\n",
              "      <th>1</th>\n",
              "      <td>vhigh</td>\n",
              "      <td>vhigh</td>\n",
              "      <td>small</td>\n",
              "      <td>med</td>\n",
              "      <td>unacc</td>\n",
              "    </tr>\n",
              "    <tr>\n",
              "      <th>2</th>\n",
              "      <td>vhigh</td>\n",
              "      <td>vhigh</td>\n",
              "      <td>small</td>\n",
              "      <td>high</td>\n",
              "      <td>unacc</td>\n",
              "    </tr>\n",
              "    <tr>\n",
              "      <th>3</th>\n",
              "      <td>vhigh</td>\n",
              "      <td>vhigh</td>\n",
              "      <td>med</td>\n",
              "      <td>low</td>\n",
              "      <td>unacc</td>\n",
              "    </tr>\n",
              "    <tr>\n",
              "      <th>4</th>\n",
              "      <td>vhigh</td>\n",
              "      <td>vhigh</td>\n",
              "      <td>med</td>\n",
              "      <td>med</td>\n",
              "      <td>unacc</td>\n",
              "    </tr>\n",
              "  </tbody>\n",
              "</table>\n",
              "</div>"
            ],
            "text/plain": [
              "  buying  maint lug_boot safety  class\n",
              "0  vhigh  vhigh    small    low  unacc\n",
              "1  vhigh  vhigh    small    med  unacc\n",
              "2  vhigh  vhigh    small   high  unacc\n",
              "3  vhigh  vhigh      med    low  unacc\n",
              "4  vhigh  vhigh      med    med  unacc"
            ]
          },
          "execution_count": 22,
          "metadata": {},
          "output_type": "execute_result"
        }
      ],
      "source": [
        "data.head()"
      ]
    },
    {
      "cell_type": "markdown",
      "metadata": {
        "id": "lfi1uHIxPdDe"
      },
      "source": [
        "## 2) Membagi data menjadi data latih dan data uji\n",
        "\n",
        "Metode pembelajaran mesin memerlukan dua jenis data :\n",
        "\n",
        "\n",
        "1.   Data latih : Digunakan untuk proses training metode klasifikasi\n",
        "2.   Data uji : Digunakan untuk proses evaluasi metode klasifikasi\n",
        "\n",
        "Data uji dan data latih perlu dibuat terpisah (mutualy exclusive) agar hasil evaluasi lebih akurat.\n",
        "\n",
        "Data uji dan data latih dapat dibuat dengan cara membagi dataset dengan rasio tertentu, misalnya 80% data latih dan 20% data uji.\n",
        "\n",
        "Library Scikit-learn memiliki fungsi [train_test_split](https://scikit-learn.org/stable/modules/generated/sklearn.model_selection.train_test_split.html) pada modul **model_selection** untuk membagi dataset menjadi data latih dan data uji. Bagilah dataset anda menjadi dua, yaitu **data_latih** dan **data_uji**. Agar pengacakan data dilakukan secara konstan, parameter **random_state** diisi dengan nilai integer tertentu, pada praktikum ini diset 101. Kemudian, nilai indeks pada data latih dan data uji diatur ulang agar berurutan nilainya\n"
      ]
    },
    {
      "cell_type": "code",
      "execution_count": 23,
      "metadata": {
        "colab": {
          "base_uri": "https://localhost:8080/",
          "height": 423
        },
        "id": "jJjfXgfmPTlU",
        "outputId": "994d9dba-3018-4364-f0eb-de4ab1d7f36b"
      },
      "outputs": [
        {
          "data": {
            "text/html": [
              "<div>\n",
              "<style scoped>\n",
              "    .dataframe tbody tr th:only-of-type {\n",
              "        vertical-align: middle;\n",
              "    }\n",
              "\n",
              "    .dataframe tbody tr th {\n",
              "        vertical-align: top;\n",
              "    }\n",
              "\n",
              "    .dataframe thead th {\n",
              "        text-align: right;\n",
              "    }\n",
              "</style>\n",
              "<table border=\"1\" class=\"dataframe\">\n",
              "  <thead>\n",
              "    <tr style=\"text-align: right;\">\n",
              "      <th></th>\n",
              "      <th>buying</th>\n",
              "      <th>maint</th>\n",
              "      <th>lug_boot</th>\n",
              "      <th>safety</th>\n",
              "      <th>class</th>\n",
              "    </tr>\n",
              "  </thead>\n",
              "  <tbody>\n",
              "    <tr>\n",
              "      <th>0</th>\n",
              "      <td>vhigh</td>\n",
              "      <td>high</td>\n",
              "      <td>med</td>\n",
              "      <td>med</td>\n",
              "      <td>unacc</td>\n",
              "    </tr>\n",
              "    <tr>\n",
              "      <th>1</th>\n",
              "      <td>low</td>\n",
              "      <td>med</td>\n",
              "      <td>small</td>\n",
              "      <td>high</td>\n",
              "      <td>unacc</td>\n",
              "    </tr>\n",
              "    <tr>\n",
              "      <th>2</th>\n",
              "      <td>vhigh</td>\n",
              "      <td>low</td>\n",
              "      <td>big</td>\n",
              "      <td>med</td>\n",
              "      <td>unacc</td>\n",
              "    </tr>\n",
              "    <tr>\n",
              "      <th>3</th>\n",
              "      <td>low</td>\n",
              "      <td>vhigh</td>\n",
              "      <td>small</td>\n",
              "      <td>med</td>\n",
              "      <td>unacc</td>\n",
              "    </tr>\n",
              "    <tr>\n",
              "      <th>4</th>\n",
              "      <td>med</td>\n",
              "      <td>low</td>\n",
              "      <td>small</td>\n",
              "      <td>low</td>\n",
              "      <td>unacc</td>\n",
              "    </tr>\n",
              "    <tr>\n",
              "      <th>...</th>\n",
              "      <td>...</td>\n",
              "      <td>...</td>\n",
              "      <td>...</td>\n",
              "      <td>...</td>\n",
              "      <td>...</td>\n",
              "    </tr>\n",
              "    <tr>\n",
              "      <th>341</th>\n",
              "      <td>high</td>\n",
              "      <td>med</td>\n",
              "      <td>med</td>\n",
              "      <td>med</td>\n",
              "      <td>unacc</td>\n",
              "    </tr>\n",
              "    <tr>\n",
              "      <th>342</th>\n",
              "      <td>low</td>\n",
              "      <td>med</td>\n",
              "      <td>big</td>\n",
              "      <td>med</td>\n",
              "      <td>good</td>\n",
              "    </tr>\n",
              "    <tr>\n",
              "      <th>343</th>\n",
              "      <td>vhigh</td>\n",
              "      <td>vhigh</td>\n",
              "      <td>big</td>\n",
              "      <td>med</td>\n",
              "      <td>unacc</td>\n",
              "    </tr>\n",
              "    <tr>\n",
              "      <th>344</th>\n",
              "      <td>vhigh</td>\n",
              "      <td>low</td>\n",
              "      <td>med</td>\n",
              "      <td>low</td>\n",
              "      <td>unacc</td>\n",
              "    </tr>\n",
              "    <tr>\n",
              "      <th>345</th>\n",
              "      <td>vhigh</td>\n",
              "      <td>low</td>\n",
              "      <td>med</td>\n",
              "      <td>med</td>\n",
              "      <td>acc</td>\n",
              "    </tr>\n",
              "  </tbody>\n",
              "</table>\n",
              "<p>346 rows × 5 columns</p>\n",
              "</div>"
            ],
            "text/plain": [
              "    buying  maint lug_boot safety  class\n",
              "0    vhigh   high      med    med  unacc\n",
              "1      low    med    small   high  unacc\n",
              "2    vhigh    low      big    med  unacc\n",
              "3      low  vhigh    small    med  unacc\n",
              "4      med    low    small    low  unacc\n",
              "..     ...    ...      ...    ...    ...\n",
              "341   high    med      med    med  unacc\n",
              "342    low    med      big    med   good\n",
              "343  vhigh  vhigh      big    med  unacc\n",
              "344  vhigh    low      med    low  unacc\n",
              "345  vhigh    low      med    med    acc\n",
              "\n",
              "[346 rows x 5 columns]"
            ]
          },
          "execution_count": 23,
          "metadata": {},
          "output_type": "execute_result"
        }
      ],
      "source": [
        "from sklearn.model_selection import train_test_split\n",
        "data_latih,data_uji = train_test_split(data,test_size=0.2,random_state=101)\n",
        "data_latih.reset_index(drop=True)\n",
        "data_uji.reset_index(drop=True)"
      ]
    },
    {
      "cell_type": "markdown",
      "metadata": {
        "id": "tBhcsUDYfw2q"
      },
      "source": [
        "Tampilkan banyaknya data pada **data_latih** dan **data_uji**. Seharusnya **data_latih** terdiri dari 208 data, dan **data_uji** terdiri dari 52 data"
      ]
    },
    {
      "cell_type": "code",
      "execution_count": 24,
      "metadata": {
        "colab": {
          "base_uri": "https://localhost:8080/"
        },
        "id": "6OtySD4efmmQ",
        "outputId": "5a22bd31-4aab-46ad-ca7d-fd9043b840b6"
      },
      "outputs": [
        {
          "name": "stdout",
          "output_type": "stream",
          "text": [
            "346\n",
            "1382\n"
          ]
        }
      ],
      "source": [
        "print(data_uji.shape[0])\n",
        "print(data_latih.shape[0])"
      ]
    },
    {
      "cell_type": "markdown",
      "metadata": {
        "id": "xm_dJNeMgl9u"
      },
      "source": [
        "## 3) Menghitung Gini\n",
        "\n",
        "Nilai Gini merupakan salah satu kriteria penentu variabel apa yang akan digunakan untuk membentuk cabang pada decision tree. Variabel dengan nilai Gini terbesar akan digunakan sebagai pembentukan cabang\n",
        "\n",
        "Buatlah fungsi bernama **hitung_gini** yang berfungsi menghitung nilai Gini dari suatu nilai pada sebuah variabel"
      ]
    },
    {
      "cell_type": "code",
      "execution_count": 25,
      "metadata": {
        "id": "QNEYOTLsfqld"
      },
      "outputs": [],
      "source": [
        "def hitung_gini(kolom_kelas):\n",
        "  elemen,banyak = np.unique(kolom_kelas,return_counts = True)\n",
        "  nilai_gini = 1 - np.sum([(banyak[i]/np.sum(banyak))**2 for i in range(len(elemen))])\n",
        "  return nilai_gini"
      ]
    },
    {
      "cell_type": "markdown",
      "metadata": {
        "id": "KaOXTHEmuNcL"
      },
      "source": [
        "Buatlah fungsi bernama **gini_split** yang digunakan untuk menghitung nilai Gini keseluruhan dari sebuah variabel."
      ]
    },
    {
      "cell_type": "code",
      "execution_count": 26,
      "metadata": {
        "id": "Hxfrr832h61_"
      },
      "outputs": [],
      "source": [
        "def gini_split(data,nama_fitur_split,nama_fitur_kelas):\n",
        "  nilai,banyak=np.unique(data[nama_fitur_split],return_counts=True)\n",
        "  gini_split = np.sum([(banyak[i]/np.sum(banyak))*hitung_gini(data.where(data[nama_fitur_split]==nilai[i]).dropna()[nama_fitur_kelas]) for i in range(len(nilai))])\n",
        "  return gini_split"
      ]
    },
    {
      "cell_type": "markdown",
      "metadata": {
        "id": "vF9NYqpVMHcc"
      },
      "source": [
        "Ujilah fungsi **gini_split** menggunakan data_latih pada variabel **buying** dan variabel kelas bernama **class**."
      ]
    },
    {
      "cell_type": "code",
      "execution_count": 27,
      "metadata": {
        "colab": {
          "base_uri": "https://localhost:8080/"
        },
        "id": "WZ60vxPEKOFv",
        "outputId": "1e0860eb-daa8-47f9-f765-d1c0d1603e47"
      },
      "outputs": [
        {
          "data": {
            "text/plain": [
              "0.4498424838345615"
            ]
          },
          "execution_count": 27,
          "metadata": {},
          "output_type": "execute_result"
        }
      ],
      "source": [
        "gini_split(data_latih,\"buying\",\"class\")"
      ]
    },
    {
      "cell_type": "markdown",
      "metadata": {
        "id": "46FZOwFIlkM_"
      },
      "source": [
        "## 4) Pembentukan pohon"
      ]
    },
    {
      "cell_type": "markdown",
      "metadata": {
        "id": "4wQfBDujvR_Z"
      },
      "source": [
        "Pembentukan pohon dilakukan secara rekursif. Seperti metode rekursif pada umumnya, perlu ditentukan kondisi berhenti terlebih dahulu. Kondisi berhenti pada pembentukan pohon adalah:\n",
        "\n",
        "\n",
        "1.   Jika hanya ada satu kelas pada data, kembalikan kelas tersebut\n",
        "2.   Jika fitur data  = 0 (tidak ada fitur yang tersisa), kembalikan kelas dari parent\n",
        "3. Jika data kosong (tidak ada data), kembalikan kelas dengan frekuensi terbanyak\n",
        "\n",
        "Selain kondisi berhenti tersebut, dilakukan pembentukan pohon secara rekursif menggunakan fungsi **buat_tree**.\n",
        "\n"
      ]
    },
    {
      "cell_type": "code",
      "execution_count": 28,
      "metadata": {
        "id": "qFB6pLbeikcG"
      },
      "outputs": [],
      "source": [
        "def buat_tree(data,data_awal,daftar_fitur,nama_fitur_kelas,kelas_parent_node=None):\n",
        "  #jika hanya ada satu kelas pada data\n",
        "  if len(np.unique(data[nama_fitur_kelas])) <= 1:\n",
        "    return np.unique(data[nama_fitur_kelas])[0]\n",
        "  #jika data kosong\n",
        "  elif len(data)==0:\n",
        "    return np.unique(data_awal[nama_fitur_kelas])[np.argmax(np.unique(data_awal[nama_fitur_kelas],return_counts=True)[1])]\n",
        "  #jika tidak ada fitur yang tersisa\n",
        "  elif len(daftar_fitur) ==0:\n",
        "    return kelas_parent_node\n",
        "  else:\n",
        "    kelas_parent_node = np.unique(data[nama_fitur_kelas])[np.argmax(np.unique(data[nama_fitur_kelas],return_counts=True)[1])]\n",
        "    nilai_split = [gini_split(data,fitur,nama_fitur_kelas) for fitur in daftar_fitur]\n",
        "    index_fitur_terbaik = np.argmin(nilai_split)\n",
        "    fitur_terbaik = daftar_fitur[index_fitur_terbaik]\n",
        "    tree = {fitur_terbaik:{}}\n",
        "    daftar_fitur = [i for i in daftar_fitur if i != fitur_terbaik]\n",
        "    for nilai in np.unique(data[fitur_terbaik]):\n",
        "      sub_data = data.where(data[fitur_terbaik] == nilai).dropna()\n",
        "      subtree = buat_tree(sub_data,data_awal,daftar_fitur,nama_fitur_kelas,kelas_parent_node)\n",
        "      tree[fitur_terbaik][nilai]=subtree\n",
        "    return(tree)"
      ]
    },
    {
      "cell_type": "markdown",
      "metadata": {
        "id": "GsqCB1ntU020"
      },
      "source": [
        "Buatlah tree menggunakan data latih yang tersedia"
      ]
    },
    {
      "cell_type": "code",
      "execution_count": 29,
      "metadata": {
        "id": "Ca6NaY09SN-R"
      },
      "outputs": [],
      "source": [
        "tree = buat_tree(data_latih,data_latih,data_latih.columns[:-1],'class')"
      ]
    },
    {
      "cell_type": "markdown",
      "metadata": {
        "id": "evKQehVeU6YC"
      },
      "source": [
        "Tampilkan tree yang terbentuk. Gunakan library **pprint** untuk menampilkan dictionary secara teratur."
      ]
    },
    {
      "cell_type": "code",
      "execution_count": 30,
      "metadata": {
        "colab": {
          "base_uri": "https://localhost:8080/"
        },
        "id": "d8AMFsUoSsLt",
        "outputId": "4467fe65-d8f4-4d92-87ef-1b12988816ba"
      },
      "outputs": [
        {
          "name": "stdout",
          "output_type": "stream",
          "text": [
            "{'safety': {'high': {'buying': {'high': {'maint': {'high': {'lug_boot': {'big': 'acc',\n",
            "                                                                         'med': 'acc',\n",
            "                                                                         'small': 'acc'}},\n",
            "                                                   'low': {'lug_boot': {'big': 'acc',\n",
            "                                                                        'med': 'acc',\n",
            "                                                                        'small': 'acc'}},\n",
            "                                                   'med': {'lug_boot': {'big': 'acc',\n",
            "                                                                        'med': 'acc',\n",
            "                                                                        'small': 'acc'}},\n",
            "                                                   'vhigh': 'unacc'}},\n",
            "                                'low': {'maint': {'high': {'lug_boot': {'big': 'unacc',\n",
            "                                                                        'med': 'unacc',\n",
            "                                                                        'small': 'unacc'}},\n",
            "                                                  'low': {'lug_boot': {'big': 'unacc',\n",
            "                                                                       'med': 'unacc',\n",
            "                                                                       'small': 'unacc'}},\n",
            "                                                  'med': {'lug_boot': {'big': 'vgood',\n",
            "                                                                       'med': 'vgood',\n",
            "                                                                       'small': 'vgood'}},\n",
            "                                                  'vhigh': {'lug_boot': {'big': 'acc',\n",
            "                                                                         'med': 'acc',\n",
            "                                                                         'small': 'acc'}}}},\n",
            "                                'med': {'maint': {'high': {'lug_boot': {'big': 'acc',\n",
            "                                                                        'med': 'acc',\n",
            "                                                                        'small': 'acc'}},\n",
            "                                                  'low': {'lug_boot': {'big': 'good',\n",
            "                                                                       'med': 'good',\n",
            "                                                                       'small': 'good'}},\n",
            "                                                  'med': {'lug_boot': {'big': 'vgood',\n",
            "                                                                       'med': 'vgood',\n",
            "                                                                       'small': 'vgood'}},\n",
            "                                                  'vhigh': {'lug_boot': {'big': 'acc',\n",
            "                                                                         'med': 'acc',\n",
            "                                                                         'small': 'acc'}}}},\n",
            "                                'vhigh': {'maint': {'high': 'unacc',\n",
            "                                                    'low': {'lug_boot': {'big': 'acc',\n",
            "                                                                         'med': 'acc',\n",
            "                                                                         'small': 'acc'}},\n",
            "                                                    'med': {'lug_boot': {'big': 'acc',\n",
            "                                                                         'med': 'acc',\n",
            "                                                                         'small': 'acc'}},\n",
            "                                                    'vhigh': 'unacc'}}}},\n",
            "            'low': 'unacc',\n",
            "            'med': {'buying': {'high': {'lug_boot': {'big': {'maint': {'high': 'acc',\n",
            "                                                                       'low': 'acc',\n",
            "                                                                       'med': 'acc',\n",
            "                                                                       'vhigh': 'unacc'}},\n",
            "                                                     'med': {'maint': {'high': 'unacc',\n",
            "                                                                       'low': 'unacc',\n",
            "                                                                       'med': 'unacc',\n",
            "                                                                       'vhigh': 'unacc'}},\n",
            "                                                     'small': 'unacc'}},\n",
            "                               'low': {'maint': {'high': {'lug_boot': {'big': 'acc',\n",
            "                                                                       'med': 'acc',\n",
            "                                                                       'small': 'acc'}},\n",
            "                                                 'low': {'lug_boot': {'big': 'good',\n",
            "                                                                      'med': 'good',\n",
            "                                                                      'small': 'good'}},\n",
            "                                                 'med': {'lug_boot': {'big': 'unacc',\n",
            "                                                                      'med': 'unacc',\n",
            "                                                                      'small': 'unacc'}},\n",
            "                                                 'vhigh': {'lug_boot': {'big': 'unacc',\n",
            "                                                                        'med': 'unacc',\n",
            "                                                                        'small': 'unacc'}}}},\n",
            "                               'med': {'maint': {'high': {'lug_boot': {'big': 'unacc',\n",
            "                                                                       'med': 'unacc',\n",
            "                                                                       'small': 'unacc'}},\n",
            "                                                 'low': {'lug_boot': {'big': 'unacc',\n",
            "                                                                      'med': 'unacc',\n",
            "                                                                      'small': 'unacc'}},\n",
            "                                                 'med': {'lug_boot': {'big': 'acc',\n",
            "                                                                      'med': 'acc',\n",
            "                                                                      'small': 'acc'}},\n",
            "                                                 'vhigh': {'lug_boot': {'big': 'unacc',\n",
            "                                                                        'med': 'unacc',\n",
            "                                                                        'small': 'unacc'}}}},\n",
            "                               'vhigh': {'maint': {'high': 'unacc',\n",
            "                                                   'low': {'lug_boot': {'big': 'unacc',\n",
            "                                                                        'med': 'unacc',\n",
            "                                                                        'small': 'unacc'}},\n",
            "                                                   'med': {'lug_boot': {'big': 'unacc',\n",
            "                                                                        'med': 'unacc',\n",
            "                                                                        'small': 'unacc'}},\n",
            "                                                   'vhigh': 'unacc'}}}}}}\n"
          ]
        }
      ],
      "source": [
        "from pprint import pprint\n",
        "pprint(tree)"
      ]
    },
    {
      "cell_type": "markdown",
      "metadata": {
        "id": "mou0Bi1cyswK"
      },
      "source": [
        "## 5) Proses prediksi\n",
        "\n",
        "Proses prediksi kelas pada data uji dilakukan dengan melakukan *tree traversal* sampai menemui leaf."
      ]
    },
    {
      "cell_type": "code",
      "execution_count": 31,
      "metadata": {
        "id": "fzvwAIBh8g2e"
      },
      "outputs": [],
      "source": [
        "def prediksi(data_uji,tree):\n",
        "  for key in list(data_uji.keys()):\n",
        "    if key in list(tree.keys()):\n",
        "      try:\n",
        "        hasil = tree[key][data_uji[key]]\n",
        "      except:\n",
        "        return 1\n",
        "      hasil = tree[key][data_uji[key]]\n",
        "      if isinstance(hasil,dict):\n",
        "        return prediksi(data_uji,hasil)\n",
        "      else:\n",
        "        return hasil"
      ]
    },
    {
      "cell_type": "markdown",
      "metadata": {
        "id": "BChrt6JtXCDP"
      },
      "source": [
        "## 6) Proses Pengujian\n",
        "Lakukan pengujian menggunakan data uji. Kelas pada data uji perlu dihapus dan data uji perlu diubah menjadi dictionary"
      ]
    },
    {
      "cell_type": "code",
      "execution_count": 32,
      "metadata": {
        "id": "IwY0kpvDXXSx"
      },
      "outputs": [],
      "source": [
        "data_uji_dict = data_uji.iloc[:,:-1].to_dict(orient = \"records\")"
      ]
    },
    {
      "cell_type": "markdown",
      "metadata": {
        "id": "IbrQ119iRrJV"
      },
      "source": [
        "Lakukan pengujian terhadap keseluruhan data uji menggunakan looping."
      ]
    },
    {
      "cell_type": "code",
      "execution_count": 33,
      "metadata": {
        "id": "s8AC5eKnYAnX"
      },
      "outputs": [],
      "source": [
        "hasil_prediksi_total = []\n",
        "for i in range(len(data_uji_dict)):\n",
        "  hasil_prediksi = prediksi(data_uji_dict[i],tree)\n",
        "  hasil_prediksi_total.append(hasil_prediksi)"
      ]
    },
    {
      "cell_type": "markdown",
      "metadata": {
        "id": "h7JhY6JXZRi6"
      },
      "source": [
        "Bandingkan hasil prediksi dengan label sebenarnya. Hitunglah banyaknya data uji yang memiliki kelas prediksi sama dengan kelas sebenarnya"
      ]
    },
    {
      "cell_type": "code",
      "execution_count": 34,
      "metadata": {
        "colab": {
          "base_uri": "https://localhost:8080/"
        },
        "id": "KZMRbhqwaCKd",
        "outputId": "8830075e-d698-4983-b038-64a26d59ef88"
      },
      "outputs": [
        {
          "name": "stdout",
          "output_type": "stream",
          "text": [
            "Total prediksi benar:  251\n"
          ]
        }
      ],
      "source": [
        "print(\"Total prediksi benar: \",sum(hasil_prediksi_total==data_uji['class']))"
      ]
    },
    {
      "cell_type": "markdown",
      "metadata": {
        "id": "ZiDmUxVBuo42"
      },
      "source": [
        "## TUGAS\n",
        "Pada tugas kali ini Anda diminta memodifikasi metode pembentukan tree yang telah Anda agar metode tersebut menggunakan information gain sebagai dasar percabangan. Lengkapilah kerangka source code di bawah ini"
      ]
    },
    {
      "cell_type": "markdown",
      "metadata": {
        "id": "IYMKi5wxVa2R"
      },
      "source": [
        "Lengkapi fungsi hitung_entropy"
      ]
    },
    {
      "cell_type": "code",
      "execution_count": 35,
      "metadata": {
        "id": "qzcjfgqO_exR"
      },
      "outputs": [],
      "source": [
        "import math\n",
        "\n",
        "def hitung_entropy(kolom_kelas):\n",
        "  elemen,banyak = np.unique(kolom_kelas,return_counts = True)\n",
        "  entropy = -1*np.sum([(banyak[i]/np.sum(banyak))*math.log((banyak[i]/np.sum(banyak)),2) for i in range(len(elemen))])\n",
        "  return entropy"
      ]
    },
    {
      "cell_type": "markdown",
      "metadata": {
        "id": "JQPDwKvWVejo"
      },
      "source": [
        "Lengkapi fungsi information_gain"
      ]
    },
    {
      "cell_type": "code",
      "execution_count": 36,
      "metadata": {
        "id": "nICq1Ce8TVXV"
      },
      "outputs": [],
      "source": [
        "def information_gain(data, nama_fitur_split, nama_fitur_kelas):\n",
        "  #tuliskan kode Anda di sini\n",
        "  nilai,banyak = np.unique(data[nama_fitur_split], return_counts = True)\n",
        "  information_gain = hitung_entropy(banyak)-np.sum([(banyak[i]/np.sum(banyak))*hitung_entropy(data.where(data[nama_fitur_split]==nilai[i]).dropna()[nama_fitur_kelas]) for i in range(len(nilai))])\n",
        "  return information_gain"
      ]
    },
    {
      "cell_type": "markdown",
      "metadata": {
        "id": "wRTzVLc4VnM6"
      },
      "source": [
        "Lengkapi fungsi **buat_tree_ig**. Isinya sama persis dengan fungsi **buat_tree**, hanya saja penghitungan **gini_split** diganti dengan **information_gain**. Selain itu, percabangan dilakukan dengan menggunakan nilai **information_gain** **terbesar**"
      ]
    },
    {
      "cell_type": "code",
      "execution_count": 37,
      "metadata": {
        "id": "8EJBMOEJUfOV"
      },
      "outputs": [],
      "source": [
        "def buat_tree_ig(data,data_awal, daftar_fitur, nama_fitur_kelas,kelas_parent_node=None):\n",
        "  #Tuliskan kode anda disini\n",
        "  if len(np.unique(data[nama_fitur_kelas])) <= 1:\n",
        "    return np.unique(data[nama_fitur_kelas])[0]\n",
        "  elif len(data)==0:\n",
        "    return np.unique(data_awal[nama_fitur_kelas])[np.argmax(np.unique(data_awal[nama_fitur_kelas],return_counts=True)[1])]\n",
        "  elif len(daftar_fitur) ==0:\n",
        "    return kelas_parent_node\n",
        "  else:\n",
        "    kelas_parent_node = np.unique(data[nama_fitur_kelas])[np.argmax(np.unique(data[nama_fitur_kelas],return_counts=True)[1])]\n",
        "    nilai_split = [information_gain(data,fitur,nama_fitur_kelas) for fitur in daftar_fitur]\n",
        "    index_information_gain_terbesar = np.argmax(nilai_split)\n",
        "    information_gain_terbesar = daftar_fitur[index_information_gain_terbesar]\n",
        "    tree = {information_gain_terbesar:{}}\n",
        "    daftar_fitur = [i for i in daftar_fitur if i != information_gain_terbesar]\n",
        "    for nilai in np.unique(data[information_gain_terbesar]):\n",
        "      sub_data = data.where(data[information_gain_terbesar] == nilai).dropna()\n",
        "      subtree = buat_tree_ig(sub_data,data_awal,daftar_fitur,nama_fitur_kelas,kelas_parent_node)\n",
        "      tree[information_gain_terbesar][nilai]=subtree\n",
        "    return(tree)"
      ]
    },
    {
      "cell_type": "markdown",
      "metadata": {
        "id": "CKVka-apV_0n"
      },
      "source": [
        "Lakukan pembentukan tree menggunakan fungsi **buat_tree_ig**"
      ]
    },
    {
      "cell_type": "code",
      "execution_count": 38,
      "metadata": {
        "colab": {
          "base_uri": "https://localhost:8080/",
          "height": 165
        },
        "id": "5ax_yrUwUwo7",
        "outputId": "52f99222-4759-4a43-c9d1-0f66aa97c570"
      },
      "outputs": [],
      "source": [
        "tree_ig = buat_tree_ig(data_latih,data_latih,data_latih.columns[:-1],'class')"
      ]
    },
    {
      "cell_type": "markdown",
      "metadata": {
        "id": "YBqhseFmWLPq"
      },
      "source": [
        "Tampilkan tree yang terbentuk"
      ]
    },
    {
      "cell_type": "code",
      "execution_count": 39,
      "metadata": {
        "colab": {
          "base_uri": "https://localhost:8080/"
        },
        "id": "yt6_LzfIU9nR",
        "outputId": "762529f2-929e-468b-bf49-a93051b31e7d"
      },
      "outputs": [
        {
          "name": "stdout",
          "output_type": "stream",
          "text": [
            "{'buying': {'high': {'maint': {'high': {'safety': {'high': {'lug_boot': {'big': 'acc',\n",
            "                                                                         'med': 'acc',\n",
            "                                                                         'small': 'acc'}},\n",
            "                                                   'low': 'unacc',\n",
            "                                                   'med': {'lug_boot': {'big': 'unacc',\n",
            "                                                                        'med': 'unacc',\n",
            "                                                                        'small': 'unacc'}}}},\n",
            "                               'low': {'safety': {'high': {'lug_boot': {'big': 'acc',\n",
            "                                                                        'med': 'acc',\n",
            "                                                                        'small': 'acc'}},\n",
            "                                                  'low': 'unacc',\n",
            "                                                  'med': {'lug_boot': {'big': 'unacc',\n",
            "                                                                       'med': 'unacc',\n",
            "                                                                       'small': 'unacc'}}}},\n",
            "                               'med': {'safety': {'high': {'lug_boot': {'big': 'acc',\n",
            "                                                                        'med': 'acc',\n",
            "                                                                        'small': 'acc'}},\n",
            "                                                  'low': 'unacc',\n",
            "                                                  'med': {'lug_boot': {'big': 'unacc',\n",
            "                                                                       'med': 'unacc',\n",
            "                                                                       'small': 'unacc'}}}},\n",
            "                               'vhigh': 'unacc'}},\n",
            "            'low': {'maint': {'high': {'safety': {'high': {'lug_boot': {'big': 'unacc',\n",
            "                                                                        'med': 'unacc',\n",
            "                                                                        'small': 'unacc'}},\n",
            "                                                  'low': 'unacc',\n",
            "                                                  'med': {'lug_boot': {'big': 'acc',\n",
            "                                                                       'med': 'acc',\n",
            "                                                                       'small': 'acc'}}}},\n",
            "                              'low': {'safety': {'high': {'lug_boot': {'big': 'unacc',\n",
            "                                                                       'med': 'unacc',\n",
            "                                                                       'small': 'unacc'}},\n",
            "                                                 'low': 'unacc',\n",
            "                                                 'med': {'lug_boot': {'big': 'good',\n",
            "                                                                      'med': 'good',\n",
            "                                                                      'small': 'good'}}}},\n",
            "                              'med': {'safety': {'high': {'lug_boot': {'big': 'vgood',\n",
            "                                                                       'med': 'vgood',\n",
            "                                                                       'small': 'vgood'}},\n",
            "                                                 'low': 'unacc',\n",
            "                                                 'med': {'lug_boot': {'big': 'unacc',\n",
            "                                                                      'med': 'unacc',\n",
            "                                                                      'small': 'unacc'}}}},\n",
            "                              'vhigh': {'safety': {'high': {'lug_boot': {'big': 'acc',\n",
            "                                                                         'med': 'acc',\n",
            "                                                                         'small': 'acc'}},\n",
            "                                                   'low': 'unacc',\n",
            "                                                   'med': {'lug_boot': {'big': 'unacc',\n",
            "                                                                        'med': 'unacc',\n",
            "                                                                        'small': 'unacc'}}}}}},\n",
            "            'med': {'maint': {'high': {'safety': {'high': {'lug_boot': {'big': 'acc',\n",
            "                                                                        'med': 'acc',\n",
            "                                                                        'small': 'acc'}},\n",
            "                                                  'low': 'unacc',\n",
            "                                                  'med': {'lug_boot': {'big': 'unacc',\n",
            "                                                                       'med': 'unacc',\n",
            "                                                                       'small': 'unacc'}}}},\n",
            "                              'low': {'lug_boot': {'big': {'safety': {'high': 'unacc',\n",
            "                                                                      'low': 'unacc',\n",
            "                                                                      'med': 'unacc'}},\n",
            "                                                   'med': {'safety': {'high': 'unacc',\n",
            "                                                                      'low': 'unacc',\n",
            "                                                                      'med': 'unacc'}},\n",
            "                                                   'small': {'safety': {'high': 'unacc',\n",
            "                                                                        'low': 'unacc',\n",
            "                                                                        'med': 'unacc'}}}},\n",
            "                              'med': {'safety': {'high': {'lug_boot': {'big': 'vgood',\n",
            "                                                                       'med': 'vgood',\n",
            "                                                                       'small': 'vgood'}},\n",
            "                                                 'low': 'unacc',\n",
            "                                                 'med': {'lug_boot': {'big': 'acc',\n",
            "                                                                      'med': 'acc',\n",
            "                                                                      'small': 'acc'}}}},\n",
            "                              'vhigh': {'lug_boot': {'big': {'safety': {'high': 'unacc',\n",
            "                                                                        'low': 'unacc',\n",
            "                                                                        'med': 'unacc'}},\n",
            "                                                     'med': {'safety': {'high': 'unacc',\n",
            "                                                                        'low': 'unacc',\n",
            "                                                                        'med': 'unacc'}},\n",
            "                                                     'small': {'safety': {'high': 'unacc',\n",
            "                                                                          'low': 'unacc',\n",
            "                                                                          'med': 'unacc'}}}}}},\n",
            "            'vhigh': {'maint': {'high': 'unacc',\n",
            "                                'low': {'safety': {'high': {'lug_boot': {'big': 'acc',\n",
            "                                                                         'med': 'acc',\n",
            "                                                                         'small': 'acc'}},\n",
            "                                                   'low': 'unacc',\n",
            "                                                   'med': {'lug_boot': {'big': 'unacc',\n",
            "                                                                        'med': 'unacc',\n",
            "                                                                        'small': 'unacc'}}}},\n",
            "                                'med': {'safety': {'high': {'lug_boot': {'big': 'acc',\n",
            "                                                                         'med': 'acc',\n",
            "                                                                         'small': 'acc'}},\n",
            "                                                   'low': 'unacc',\n",
            "                                                   'med': {'lug_boot': {'big': 'unacc',\n",
            "                                                                        'med': 'unacc',\n",
            "                                                                        'small': 'unacc'}}}},\n",
            "                                'vhigh': 'unacc'}}}}\n"
          ]
        }
      ],
      "source": [
        "pprint(tree_ig)"
      ]
    },
    {
      "cell_type": "markdown",
      "metadata": {
        "id": "5x-TO_QCWRiX"
      },
      "source": [
        "Lakukan pengujian menggunakan tree yang terbentuk"
      ]
    },
    {
      "cell_type": "code",
      "execution_count": 40,
      "metadata": {
        "colab": {
          "base_uri": "https://localhost:8080/"
        },
        "id": "Jx0mcASEVIMZ",
        "outputId": "35b84444-5e0b-4f5c-9d88-522993a80403"
      },
      "outputs": [
        {
          "name": "stdout",
          "output_type": "stream",
          "text": [
            "Total prediksi benar:  253\n"
          ]
        }
      ],
      "source": [
        "hasil_prediksi_total_ig = []\n",
        "for i in range(len(data_uji_dict)):\n",
        "  hasil_prediksi = prediksi(data_uji_dict[i],tree_ig)\n",
        "  hasil_prediksi_total_ig.append(hasil_prediksi)\n",
        "print(\"Total prediksi benar: \",sum(hasil_prediksi_total_ig==data_uji['class']))"
      ]
    },
    {
      "cell_type": "markdown",
      "metadata": {
        "id": "PcWNZAZJW53r"
      },
      "source": [
        "# PERTANYAAN\n",
        "\n",
        "Jawablah pertanyaan di bawah ini"
      ]
    },
    {
      "cell_type": "markdown",
      "metadata": {
        "id": "S0cHXissXCO7"
      },
      "source": [
        "\n",
        "\n",
        "1.   Amati tree yang dihasilkan dengan kriteria percabangan GINI dan Information Gain. Apa perbedaan tree yang dihasilkan dari kedua metode tersebut?\n",
        "2.   Apakah penggunaan Information Gain dapat meningkatkan akurasi prediksi?\n",
        "\n"
      ]
    },
    {
      "attachments": {},
      "cell_type": "markdown",
      "metadata": {
        "id": "wQSW_Ix3XaNT"
      },
      "source": [
        "Tulis jawaban Anda di cell ini\n",
        "\n",
        "\n",
        "1. Hasil percabangan menggunakan metode GINI Split menampilkan urutan percabangan yang berbeda dengan metode Information Gain. Secara spesifik, percabangan GINI memiliki urutan \"safety>buying>maint>lug_boot>class\", sedangkan Information Gain memiliki urutan \"buying>maint>safety>lug_boot>class\".\n",
        "2. Keakuratan percabangan GINI Split dan Information Gain tergantung pada karakteristik dari data yang digunakan. Jika data memiliki partisi yang besar, maka percabangan GINI Split dapat memberikan hasil yang lebih akurat. Namun, jika data memiliki partisi yang kecil dan nilai unik yang bervariasi, maka Information Gain mungkin memberikan hasil yang lebih akurat.\n"
      ]
    }
  ],
  "metadata": {
    "colab": {
      "provenance": []
    },
    "kernelspec": {
      "display_name": "Python 3",
      "name": "python3"
    },
    "language_info": {
      "codemirror_mode": {
        "name": "ipython",
        "version": 3
      },
      "file_extension": ".py",
      "mimetype": "text/x-python",
      "name": "python",
      "nbconvert_exporter": "python",
      "pygments_lexer": "ipython3",
      "version": "3.9.1"
    }
  },
  "nbformat": 4,
  "nbformat_minor": 0
}

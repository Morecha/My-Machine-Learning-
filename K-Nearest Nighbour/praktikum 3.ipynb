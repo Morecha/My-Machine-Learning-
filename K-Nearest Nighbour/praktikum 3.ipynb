{
 "cells": [
  {
   "cell_type": "code",
   "execution_count": 2,
   "metadata": {},
   "outputs": [],
   "source": [
    "import pandas as pd\n",
    "import numpy as np\n",
    "from sklearn.model_selection import  train_test_split\n",
    "from collections import Counter"
   ]
  },
  {
   "cell_type": "code",
   "execution_count": 3,
   "metadata": {},
   "outputs": [
    {
     "data": {
      "text/html": [
       "<div>\n",
       "<style scoped>\n",
       "    .dataframe tbody tr th:only-of-type {\n",
       "        vertical-align: middle;\n",
       "    }\n",
       "\n",
       "    .dataframe tbody tr th {\n",
       "        vertical-align: top;\n",
       "    }\n",
       "\n",
       "    .dataframe thead th {\n",
       "        text-align: right;\n",
       "    }\n",
       "</style>\n",
       "<table border=\"1\" class=\"dataframe\">\n",
       "  <thead>\n",
       "    <tr style=\"text-align: right;\">\n",
       "      <th></th>\n",
       "      <th>sepal.length</th>\n",
       "      <th>sepal.width</th>\n",
       "      <th>petal.length</th>\n",
       "      <th>petal.width</th>\n",
       "      <th>variety</th>\n",
       "    </tr>\n",
       "  </thead>\n",
       "  <tbody>\n",
       "    <tr>\n",
       "      <th>0</th>\n",
       "      <td>5.1</td>\n",
       "      <td>3.5</td>\n",
       "      <td>1.4</td>\n",
       "      <td>0.2</td>\n",
       "      <td>Setosa</td>\n",
       "    </tr>\n",
       "    <tr>\n",
       "      <th>1</th>\n",
       "      <td>4.9</td>\n",
       "      <td>3.0</td>\n",
       "      <td>1.4</td>\n",
       "      <td>0.2</td>\n",
       "      <td>Setosa</td>\n",
       "    </tr>\n",
       "    <tr>\n",
       "      <th>2</th>\n",
       "      <td>4.7</td>\n",
       "      <td>3.2</td>\n",
       "      <td>1.3</td>\n",
       "      <td>0.2</td>\n",
       "      <td>Setosa</td>\n",
       "    </tr>\n",
       "    <tr>\n",
       "      <th>3</th>\n",
       "      <td>4.6</td>\n",
       "      <td>3.1</td>\n",
       "      <td>1.5</td>\n",
       "      <td>0.2</td>\n",
       "      <td>Setosa</td>\n",
       "    </tr>\n",
       "    <tr>\n",
       "      <th>4</th>\n",
       "      <td>5.0</td>\n",
       "      <td>3.6</td>\n",
       "      <td>1.4</td>\n",
       "      <td>0.2</td>\n",
       "      <td>Setosa</td>\n",
       "    </tr>\n",
       "  </tbody>\n",
       "</table>\n",
       "</div>"
      ],
      "text/plain": [
       "   sepal.length  sepal.width  petal.length  petal.width variety\n",
       "0           5.1          3.5           1.4          0.2  Setosa\n",
       "1           4.9          3.0           1.4          0.2  Setosa\n",
       "2           4.7          3.2           1.3          0.2  Setosa\n",
       "3           4.6          3.1           1.5          0.2  Setosa\n",
       "4           5.0          3.6           1.4          0.2  Setosa"
      ]
     },
     "execution_count": 3,
     "metadata": {},
     "output_type": "execute_result"
    }
   ],
   "source": [
    "data = pd.read_excel(\"converted.xlsx\")\n",
    "data.head()"
   ]
  },
  {
   "cell_type": "markdown",
   "metadata": {},
   "source": [
    "### Cek apakah ada data 0?"
   ]
  },
  {
   "cell_type": "code",
   "execution_count": 4,
   "metadata": {},
   "outputs": [
    {
     "data": {
      "text/html": [
       "<div>\n",
       "<style scoped>\n",
       "    .dataframe tbody tr th:only-of-type {\n",
       "        vertical-align: middle;\n",
       "    }\n",
       "\n",
       "    .dataframe tbody tr th {\n",
       "        vertical-align: top;\n",
       "    }\n",
       "\n",
       "    .dataframe thead th {\n",
       "        text-align: right;\n",
       "    }\n",
       "</style>\n",
       "<table border=\"1\" class=\"dataframe\">\n",
       "  <thead>\n",
       "    <tr style=\"text-align: right;\">\n",
       "      <th></th>\n",
       "      <th>sepal.length</th>\n",
       "      <th>sepal.width</th>\n",
       "      <th>petal.length</th>\n",
       "      <th>petal.width</th>\n",
       "      <th>variety</th>\n",
       "    </tr>\n",
       "  </thead>\n",
       "  <tbody>\n",
       "  </tbody>\n",
       "</table>\n",
       "</div>"
      ],
      "text/plain": [
       "Empty DataFrame\n",
       "Columns: [sepal.length, sepal.width, petal.length, petal.width, variety]\n",
       "Index: []"
      ]
     },
     "execution_count": 4,
     "metadata": {},
     "output_type": "execute_result"
    }
   ],
   "source": [
    "condition1 = data['sepal.length']==0.0\n",
    "condition2 = data['sepal.width']==0.0\n",
    "condition3 = data['petal.length']==0.0\n",
    "condition4 = data['petal.width']==0.0\n",
    "data.loc[condition1|condition2|condition3|condition4]"
   ]
  },
  {
   "cell_type": "markdown",
   "metadata": {},
   "source": [
    "### Membagi Data Latih dan Uji"
   ]
  },
  {
   "cell_type": "code",
   "execution_count": 5,
   "metadata": {},
   "outputs": [],
   "source": [
    "data_latih,data_uji = train_test_split(data,test_size=0.2)"
   ]
  },
  {
   "cell_type": "code",
   "execution_count": 6,
   "metadata": {},
   "outputs": [
    {
     "name": "stdout",
     "output_type": "stream",
     "text": [
      "30\n",
      "120\n"
     ]
    }
   ],
   "source": [
    "print(data_uji.shape[0])\n",
    "print(data_latih.shape[0])"
   ]
  },
  {
   "cell_type": "markdown",
   "metadata": {},
   "source": [
    "### Mengeluarkan label data."
   ]
  },
  {
   "cell_type": "code",
   "execution_count": 7,
   "metadata": {},
   "outputs": [],
   "source": [
    "label_latih = data_latih.pop('variety')\n",
    "label_uji = data_uji.pop('variety')"
   ]
  },
  {
   "cell_type": "code",
   "execution_count": 30,
   "metadata": {},
   "outputs": [
    {
     "data": {
      "text/plain": [
       "32         Setosa\n",
       "70     Versicolor\n",
       "62     Versicolor\n",
       "132     Virginica\n",
       "22         Setosa\n",
       "Name: variety, dtype: object"
      ]
     },
     "execution_count": 30,
     "metadata": {},
     "output_type": "execute_result"
    }
   ],
   "source": [
    "label_uji.head()"
   ]
  },
  {
   "cell_type": "markdown",
   "metadata": {},
   "source": [
    "### Membuat Fungsi Menghitung jara berdasarkan K\n",
    "\n"
   ]
  },
  {
   "cell_type": "code",
   "execution_count": 9,
   "metadata": {},
   "outputs": [],
   "source": [
    "def jaraknya(data1,data2):\n",
    "    jarak = np.square(data2-data1)\n",
    "    jarak = np.sum(jarak)\n",
    "    return np.sqrt(jarak)"
   ]
  },
  {
   "cell_type": "code",
   "execution_count": 10,
   "metadata": {},
   "outputs": [
    {
     "name": "stdout",
     "output_type": "stream",
     "text": [
      "3.0479501308256336\n"
     ]
    }
   ],
   "source": [
    "#testing jarak data latih 1 ke data uji 1\n",
    "jarak = jaraknya(data_latih.iloc[0], data_uji.iloc[0])\n",
    "print(jarak)"
   ]
  },
  {
   "cell_type": "markdown",
   "metadata": {},
   "source": [
    "### KNN (K Nearest Nighbor)"
   ]
  },
  {
   "cell_type": "code",
   "execution_count": 11,
   "metadata": {},
   "outputs": [],
   "source": [
    "def knn(k,data_latih,label_latih,data_uji):\n",
    "    jarak = np.array([jaraknya(data_latih.iloc[x],data_uji) for x in range(data_latih.shape[0])])\n",
    "    # jarak = np.array                          #seperti kode diatasnya\n",
    "    # for x in range(data_latih.shape[0]):\n",
    "    #     jarak = np.append(jarak,jaraknya(data_latih.iloc[x],data_uji))\n",
    "    indeks_k_terkecil = jarak.argsort()[:k]     #diurutkan setelah itu di slicing!\n",
    "    k_kelas = label_latih.iloc[indeks_k_terkecil].to_numpy()\n",
    "    counter = Counter(k_kelas)\n",
    "    kelas_uji = counter.most_common(1)[0][0]\n",
    "    return kelas_uji"
   ]
  },
  {
   "cell_type": "code",
   "execution_count": 12,
   "metadata": {},
   "outputs": [
    {
     "name": "stdout",
     "output_type": "stream",
     "text": [
      "Versicolor\n"
     ]
    }
   ],
   "source": [
    "hasil = knn(3,data_latih, label_latih, data_uji.iloc[29])\n",
    "print(hasil)"
   ]
  },
  {
   "cell_type": "markdown",
   "metadata": {},
   "source": [
    "### KNN menggunakan SKlearn"
   ]
  },
  {
   "cell_type": "code",
   "execution_count": 13,
   "metadata": {},
   "outputs": [
    {
     "name": "stdout",
     "output_type": "stream",
     "text": [
      "['Setosa']\n"
     ]
    },
    {
     "name": "stderr",
     "output_type": "stream",
     "text": [
      "c:\\Users\\madda\\AppData\\Local\\Programs\\Python\\Python39\\lib\\site-packages\\sklearn\\neighbors\\_classification.py:211: FutureWarning: Unlike other reduction functions (e.g. `skew`, `kurtosis`), the default behavior of `mode` typically preserves the axis it acts along. In SciPy 1.11.0, this behavior will change: the default value of `keepdims` will become False, the `axis` over which the statistic is taken will be eliminated, and the value None will no longer be accepted. Set `keepdims` to True or False to avoid this warning.\n",
      "  mode, _ = stats.mode(_y[neigh_ind, k], axis=1)\n"
     ]
    }
   ],
   "source": [
    "from sklearn.neighbors import KNeighborsClassifier \n",
    "KNN = KNeighborsClassifier(n_neighbors=3)\n",
    "KNN.fit(data_latih,label_latih)\n",
    "sklearn_kelas = KNN.predict([data_uji.iloc[0]])\n",
    "print(sklearn_kelas)"
   ]
  },
  {
   "cell_type": "markdown",
   "metadata": {},
   "source": [
    "### Membandingkan hasil dengan Label sebenarnya"
   ]
  },
  {
   "cell_type": "code",
   "execution_count": 24,
   "metadata": {},
   "outputs": [],
   "source": [
    "data_all = []\n",
    "for i in range(data_uji.shape[0]):\n",
    "    hasil = knn(3,data_latih, label_latih, data_uji.iloc[i])\n",
    "    data_all.append(hasil)"
   ]
  },
  {
   "cell_type": "code",
   "execution_count": 51,
   "metadata": {},
   "outputs": [],
   "source": [
    "def hasil(hasil_uji, label_uji):\n",
    "    count = 0\n",
    "    for i,label in enumerate(label_uji):\n",
    "        if label != hasil_uji[i]:\n",
    "            count = count + 1\n",
    "    return count"
   ]
  },
  {
   "cell_type": "code",
   "execution_count": 52,
   "metadata": {},
   "outputs": [
    {
     "name": "stdout",
     "output_type": "stream",
     "text": [
      "2\n"
     ]
    }
   ],
   "source": [
    "test = hasil(data_all,label_uji)\n",
    "print(test)"
   ]
  },
  {
   "cell_type": "code",
   "execution_count": 63,
   "metadata": {},
   "outputs": [
    {
     "name": "stdout",
     "output_type": "stream",
     "text": [
      "      data_all   label_uji\n",
      "0       Setosa      Setosa\n",
      "1    Virginica  Versicolor\n",
      "2   Versicolor  Versicolor\n",
      "3    Virginica   Virginica\n",
      "4       Setosa      Setosa\n",
      "5       Setosa      Setosa\n",
      "6    Virginica   Virginica\n",
      "7       Setosa      Setosa\n",
      "8   Versicolor  Versicolor\n",
      "9    Virginica   Virginica\n",
      "10  Versicolor  Versicolor\n",
      "11      Setosa      Setosa\n",
      "12  Versicolor  Versicolor\n",
      "13      Setosa      Setosa\n",
      "14  Versicolor   Virginica\n",
      "15   Virginica   Virginica\n",
      "16   Virginica   Virginica\n",
      "17      Setosa      Setosa\n",
      "18  Versicolor  Versicolor\n",
      "19      Setosa      Setosa\n",
      "20      Setosa      Setosa\n",
      "21      Setosa      Setosa\n",
      "22  Versicolor  Versicolor\n",
      "23  Versicolor  Versicolor\n",
      "24      Setosa      Setosa\n",
      "25      Setosa      Setosa\n",
      "26   Virginica   Virginica\n",
      "27      Setosa      Setosa\n",
      "28      Setosa      Setosa\n",
      "29  Versicolor  Versicolor\n"
     ]
    }
   ],
   "source": [
    "data_all_series = pd.Series(data_all)\n",
    "label_uji_series = pd.Series(label_uji).reset_index(drop=True)\n",
    "\n",
    "combined_df = pd.concat([data_all_series, label_uji_series], axis=1)\n",
    "combined_df.columns = ['data_all', 'label_uji']\n",
    "print(combined_df)"
   ]
  },
  {
   "cell_type": "code",
   "execution_count": null,
   "metadata": {},
   "outputs": [],
   "source": []
  }
 ],
 "metadata": {
  "kernelspec": {
   "display_name": "Python 3",
   "language": "python",
   "name": "python3"
  },
  "language_info": {
   "codemirror_mode": {
    "name": "ipython",
    "version": 3
   },
   "file_extension": ".py",
   "mimetype": "text/x-python",
   "name": "python",
   "nbconvert_exporter": "python",
   "pygments_lexer": "ipython3",
   "version": "3.9.1"
  },
  "orig_nbformat": 4
 },
 "nbformat": 4,
 "nbformat_minor": 2
}

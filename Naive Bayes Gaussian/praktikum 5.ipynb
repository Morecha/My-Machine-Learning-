{
 "cells": [
  {
   "cell_type": "code",
   "execution_count": 1,
   "metadata": {},
   "outputs": [],
   "source": [
    "import pandas as pd\n",
    "import numpy as np\n",
    "from sklearn.model_selection import train_test_split\n",
    "import math\n",
    "from collections import Counter\n",
    "import math"
   ]
  },
  {
   "cell_type": "code",
   "execution_count": 2,
   "metadata": {},
   "outputs": [],
   "source": [
    "data = pd.read_csv(\"https://gist.githubusercontent.com/netj/8836201/raw/6f9306ad21398ea43cba4f7d537619d0e07d5ae3/iris.csv\")\n",
    "data.to_excel(\"iris.xlsx\",index=False,sheet_name='sheet_1')\n",
    "iris_df = pd.read_excel('iris.xlsx')"
   ]
  },
  {
   "cell_type": "code",
   "execution_count": 3,
   "metadata": {},
   "outputs": [
    {
     "data": {
      "text/html": [
       "<div>\n",
       "<style scoped>\n",
       "    .dataframe tbody tr th:only-of-type {\n",
       "        vertical-align: middle;\n",
       "    }\n",
       "\n",
       "    .dataframe tbody tr th {\n",
       "        vertical-align: top;\n",
       "    }\n",
       "\n",
       "    .dataframe thead th {\n",
       "        text-align: right;\n",
       "    }\n",
       "</style>\n",
       "<table border=\"1\" class=\"dataframe\">\n",
       "  <thead>\n",
       "    <tr style=\"text-align: right;\">\n",
       "      <th></th>\n",
       "      <th>sepal.length</th>\n",
       "      <th>sepal.width</th>\n",
       "      <th>petal.length</th>\n",
       "      <th>petal.width</th>\n",
       "      <th>variety</th>\n",
       "    </tr>\n",
       "  </thead>\n",
       "  <tbody>\n",
       "    <tr>\n",
       "      <th>0</th>\n",
       "      <td>5.1</td>\n",
       "      <td>3.5</td>\n",
       "      <td>1.4</td>\n",
       "      <td>0.2</td>\n",
       "      <td>Setosa</td>\n",
       "    </tr>\n",
       "    <tr>\n",
       "      <th>1</th>\n",
       "      <td>4.9</td>\n",
       "      <td>3.0</td>\n",
       "      <td>1.4</td>\n",
       "      <td>0.2</td>\n",
       "      <td>Setosa</td>\n",
       "    </tr>\n",
       "    <tr>\n",
       "      <th>2</th>\n",
       "      <td>4.7</td>\n",
       "      <td>3.2</td>\n",
       "      <td>1.3</td>\n",
       "      <td>0.2</td>\n",
       "      <td>Setosa</td>\n",
       "    </tr>\n",
       "    <tr>\n",
       "      <th>3</th>\n",
       "      <td>4.6</td>\n",
       "      <td>3.1</td>\n",
       "      <td>1.5</td>\n",
       "      <td>0.2</td>\n",
       "      <td>Setosa</td>\n",
       "    </tr>\n",
       "    <tr>\n",
       "      <th>4</th>\n",
       "      <td>5.0</td>\n",
       "      <td>3.6</td>\n",
       "      <td>1.4</td>\n",
       "      <td>0.2</td>\n",
       "      <td>Setosa</td>\n",
       "    </tr>\n",
       "  </tbody>\n",
       "</table>\n",
       "</div>"
      ],
      "text/plain": [
       "   sepal.length  sepal.width  petal.length  petal.width variety\n",
       "0           5.1          3.5           1.4          0.2  Setosa\n",
       "1           4.9          3.0           1.4          0.2  Setosa\n",
       "2           4.7          3.2           1.3          0.2  Setosa\n",
       "3           4.6          3.1           1.5          0.2  Setosa\n",
       "4           5.0          3.6           1.4          0.2  Setosa"
      ]
     },
     "execution_count": 3,
     "metadata": {},
     "output_type": "execute_result"
    }
   ],
   "source": [
    "iris_df.head()"
   ]
  },
  {
   "cell_type": "code",
   "execution_count": 4,
   "metadata": {},
   "outputs": [],
   "source": [
    "data_latih, data_uji = train_test_split(data,test_size=0.2)\n",
    "label_uji = data_uji.pop('variety')"
   ]
  },
  {
   "cell_type": "code",
   "execution_count": 5,
   "metadata": {},
   "outputs": [
    {
     "name": "stdout",
     "output_type": "stream",
     "text": [
      "120\n",
      "30\n"
     ]
    },
    {
     "data": {
      "text/html": [
       "<div>\n",
       "<style scoped>\n",
       "    .dataframe tbody tr th:only-of-type {\n",
       "        vertical-align: middle;\n",
       "    }\n",
       "\n",
       "    .dataframe tbody tr th {\n",
       "        vertical-align: top;\n",
       "    }\n",
       "\n",
       "    .dataframe thead th {\n",
       "        text-align: right;\n",
       "    }\n",
       "</style>\n",
       "<table border=\"1\" class=\"dataframe\">\n",
       "  <thead>\n",
       "    <tr style=\"text-align: right;\">\n",
       "      <th></th>\n",
       "      <th>sepal.length</th>\n",
       "      <th>sepal.width</th>\n",
       "      <th>petal.length</th>\n",
       "      <th>petal.width</th>\n",
       "    </tr>\n",
       "  </thead>\n",
       "  <tbody>\n",
       "    <tr>\n",
       "      <th>3</th>\n",
       "      <td>4.6</td>\n",
       "      <td>3.1</td>\n",
       "      <td>1.5</td>\n",
       "      <td>0.2</td>\n",
       "    </tr>\n",
       "    <tr>\n",
       "      <th>92</th>\n",
       "      <td>5.8</td>\n",
       "      <td>2.6</td>\n",
       "      <td>4.0</td>\n",
       "      <td>1.2</td>\n",
       "    </tr>\n",
       "    <tr>\n",
       "      <th>18</th>\n",
       "      <td>5.7</td>\n",
       "      <td>3.8</td>\n",
       "      <td>1.7</td>\n",
       "      <td>0.3</td>\n",
       "    </tr>\n",
       "    <tr>\n",
       "      <th>116</th>\n",
       "      <td>6.5</td>\n",
       "      <td>3.0</td>\n",
       "      <td>5.5</td>\n",
       "      <td>1.8</td>\n",
       "    </tr>\n",
       "    <tr>\n",
       "      <th>106</th>\n",
       "      <td>4.9</td>\n",
       "      <td>2.5</td>\n",
       "      <td>4.5</td>\n",
       "      <td>1.7</td>\n",
       "    </tr>\n",
       "  </tbody>\n",
       "</table>\n",
       "</div>"
      ],
      "text/plain": [
       "     sepal.length  sepal.width  petal.length  petal.width\n",
       "3             4.6          3.1           1.5          0.2\n",
       "92            5.8          2.6           4.0          1.2\n",
       "18            5.7          3.8           1.7          0.3\n",
       "116           6.5          3.0           5.5          1.8\n",
       "106           4.9          2.5           4.5          1.7"
      ]
     },
     "execution_count": 5,
     "metadata": {},
     "output_type": "execute_result"
    }
   ],
   "source": [
    "print(data_latih.shape[0])\n",
    "print(data_uji.shape[0])\n",
    "data_uji.head()"
   ]
  },
  {
   "cell_type": "code",
   "execution_count": 6,
   "metadata": {},
   "outputs": [],
   "source": [
    "def hitung_prior(list_kelas):\n",
    "    n_data = len(list_kelas)\n",
    "    prior = Counter(list_kelas)\n",
    "    for i in prior.keys():\n",
    "        prior[i]=prior[i]/n_data\n",
    "    return prior"
   ]
  },
  {
   "cell_type": "code",
   "execution_count": 7,
   "metadata": {},
   "outputs": [
    {
     "name": "stdout",
     "output_type": "stream",
     "text": [
      "Counter({'Virginica': 0.36666666666666664, 'Versicolor': 0.31666666666666665, 'Setosa': 0.31666666666666665})\n"
     ]
    }
   ],
   "source": [
    "prior = hitung_prior(data_latih['variety'])\n",
    "print(prior)"
   ]
  },
  {
   "cell_type": "code",
   "execution_count": 8,
   "metadata": {},
   "outputs": [],
   "source": [
    "def hitung_std_kelas(input_data):\n",
    "    list_columns = input_data.columns[:-1]\n",
    "    class_column = input_data.columns[-1]\n",
    "    list_kelas = set(input_data[class_column])\n",
    "    rata2 = {}\n",
    "    std = {}\n",
    "    for column in list_columns:\n",
    "        for a_class in list_kelas:\n",
    "            rata2[(a_class,column)] = input_data.loc[input_data[class_column]==a_class][column].mean()\n",
    "            std[a_class,column] = input_data.loc[input_data[class_column]==a_class][column].std()\n",
    "    return(rata2,std)"
   ]
  },
  {
   "cell_type": "code",
   "execution_count": 9,
   "metadata": {},
   "outputs": [],
   "source": [
    "def hitung_likelihood_gaussian(data,rata2,std):\n",
    "    hasil = (1/math.sqrt(2*math.pi*(std**2)))*math.exp((-1*((data-rata2)**2))/(2*(std**2)))\n",
    "    return hasil"
   ]
  },
  {
   "cell_type": "code",
   "execution_count": 10,
   "metadata": {},
   "outputs": [
    {
     "name": "stdout",
     "output_type": "stream",
     "text": [
      "Index(['sepal.length', 'sepal.width', 'petal.length', 'petal.width'], dtype='object')\n",
      "{'Versicolor', 'Virginica', 'Setosa'}\n",
      "variety\n",
      "sepal.length    4.965789\n",
      "sepal.width     3.392105\n",
      "petal.length    1.455263\n",
      "petal.width     0.252632\n",
      "dtype: float64\n"
     ]
    }
   ],
   "source": [
    "# column\n",
    "print(data_latih.columns[:-1])\n",
    "# a_class\n",
    "print(set(data_latih[data_latih.columns[-1]]))\n",
    "# class_column\n",
    "print(data_latih.columns[-1])\n",
    "# isian Setosa\n",
    "print(data_latih.loc[data_latih[\"variety\"]==\"Setosa\"][data_latih.columns[:-1]].mean())"
   ]
  },
  {
   "cell_type": "markdown",
   "metadata": {},
   "source": [
    "### Training Gaussian"
   ]
  },
  {
   "cell_type": "code",
   "execution_count": 11,
   "metadata": {},
   "outputs": [],
   "source": [
    "def training_naive_bayes_gaussian(data_latih):\n",
    "    class_column = data_latih.columns[-1]\n",
    "    list_columns = data_latih.columns[:-1]\n",
    "    prior = hitung_prior(data_latih[class_column])\n",
    "    (rata2,std) = hitung_std_kelas(data_latih)\n",
    "    list_class = set(data_latih[class_column])\n",
    "    model = {}\n",
    "    model['prior'] = prior\n",
    "    model['rata2'] = rata2\n",
    "    model['std'] = std\n",
    "    model['list_class'] = list_class\n",
    "    model['list_columns'] = list_columns\n",
    "    return model"
   ]
  },
  {
   "cell_type": "code",
   "execution_count": 17,
   "metadata": {},
   "outputs": [],
   "source": [
    "def testing_naive_bayes_gaussian(model,data_uji):\n",
    "    prior = model['prior']\n",
    "    rata2 = model['rata2']\n",
    "    std = model['std']\n",
    "    list_class = model['list_class']\n",
    "    list_columns = model['list_columns']\n",
    "    posterior = dict.fromkeys(list_class,1)\n",
    "    for a_class in list_class:\n",
    "        for column in list_columns:\n",
    "            posterior[a_class] = posterior[a_class] * hitung_likelihood_gaussian(data_uji[column],rata2[(a_class,column)],std[(a_class,column)])\n",
    "        posterior[a_class] = posterior[a_class]*prior[a_class]\n",
    "    kelas_uji = max(posterior,key=posterior.get)\n",
    "    return kelas_uji\n"
   ]
  },
  {
   "cell_type": "code",
   "execution_count": 18,
   "metadata": {},
   "outputs": [
    {
     "name": "stdout",
     "output_type": "stream",
     "text": [
      "Setosa\n",
      "Setosa\n"
     ]
    }
   ],
   "source": [
    "index_uji = 0 #data ke-0\n",
    "model = training_naive_bayes_gaussian(data_latih)\n",
    "prediksi = testing_naive_bayes_gaussian(model,data_uji.iloc[index_uji])\n",
    "print(prediksi)\n",
    "print(label_uji.iloc[index_uji])"
   ]
  },
  {
   "cell_type": "code",
   "execution_count": 34,
   "metadata": {},
   "outputs": [
    {
     "name": "stdout",
     "output_type": "stream",
     "text": [
      "      Prediksi   Kenyataan\n",
      "0       Setosa      Setosa\n",
      "1   Versicolor  Versicolor\n",
      "2       Setosa      Setosa\n",
      "3    Virginica   Virginica\n",
      "4   Versicolor   Virginica\n",
      "5       Setosa      Setosa\n",
      "6   Versicolor  Versicolor\n",
      "7    Virginica   Virginica\n",
      "8   Versicolor  Versicolor\n",
      "9   Versicolor   Virginica\n",
      "10  Versicolor  Versicolor\n",
      "11      Setosa      Setosa\n",
      "12   Virginica   Virginica\n",
      "13   Virginica   Virginica\n",
      "14      Setosa      Setosa\n",
      "15      Setosa      Setosa\n",
      "16  Versicolor  Versicolor\n",
      "17      Setosa      Setosa\n",
      "18  Versicolor  Versicolor\n",
      "19  Versicolor  Versicolor\n",
      "20      Setosa      Setosa\n",
      "21  Versicolor  Versicolor\n",
      "22      Setosa      Setosa\n",
      "23  Versicolor  Versicolor\n",
      "24  Versicolor  Versicolor\n",
      "25      Setosa      Setosa\n",
      "26  Versicolor  Versicolor\n",
      "27      Setosa      Setosa\n",
      "28  Versicolor  Versicolor\n",
      "29      Setosa      Setosa\n"
     ]
    }
   ],
   "source": [
    "#menguji semua datanya\n",
    "all_prediction = []\n",
    "for index in range(data_uji.shape[0]):\n",
    "    all_prediction.append(testing_naive_bayes_gaussian(model,data_uji.iloc[index]))\n",
    "\n",
    "prediksi = pd.Series(all_prediction)\n",
    "label_uji_reset = pd.Series(label_uji).reset_index(drop=True)\n",
    "combined_series = pd.concat([prediksi, label_uji_reset], axis=1)\n",
    "combined_series.columns = [\"Prediksi\",\"Kenyataan\"]\n",
    "print(combined_series)"
   ]
  },
  {
   "cell_type": "code",
   "execution_count": 40,
   "metadata": {},
   "outputs": [
    {
     "name": "stdout",
     "output_type": "stream",
     "text": [
      "hasil yang berbeda ada 2\n"
     ]
    }
   ],
   "source": [
    "def hasil(hasil_uji, label_uji):\n",
    "    count = 0\n",
    "    for i,label in enumerate(label_uji):\n",
    "        if label != hasil_uji[i]:\n",
    "            count = count + 1\n",
    "    return count\n",
    "\n",
    "test = hasil(all_prediction,label_uji)\n",
    "print(f\"hasil yang berbeda ada {test}\")"
   ]
  }
 ],
 "metadata": {
  "kernelspec": {
   "display_name": "Python 3",
   "language": "python",
   "name": "python3"
  },
  "language_info": {
   "codemirror_mode": {
    "name": "ipython",
    "version": 3
   },
   "file_extension": ".py",
   "mimetype": "text/x-python",
   "name": "python",
   "nbconvert_exporter": "python",
   "pygments_lexer": "ipython3",
   "version": "3.9.1"
  },
  "orig_nbformat": 4
 },
 "nbformat": 4,
 "nbformat_minor": 2
}
